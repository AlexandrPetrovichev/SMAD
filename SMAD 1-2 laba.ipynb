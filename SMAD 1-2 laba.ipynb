{
 "cells": [
  {
   "cell_type": "markdown",
   "metadata": {},
   "source": [
    "# Лаба 1"
   ]
  },
  {
   "cell_type": "code",
   "execution_count": 237,
   "metadata": {},
   "outputs": [],
   "source": [
    "import numpy as np\n",
    "import matplotlib.pyplot as plt\n",
    "from matplotlib import cm\n",
    "from mpl_toolkits.mplot3d import Axes3D"
   ]
  },
  {
   "cell_type": "code",
   "execution_count": 238,
   "metadata": {},
   "outputs": [],
   "source": [
    "f = lambda x1, x2 : np.array([1, x1, x1**2, x2**2, x2]) \n",
    "Q = np.array([1, 1, 0.01, 10, 0.01])\n",
    "# xi = [-1, 1], i = 1, 2"
   ]
  },
  {
   "cell_type": "code",
   "execution_count": 239,
   "metadata": {},
   "outputs": [],
   "source": [
    "u = lambda x1, x2: x1 + 0.01 * x1**2 + 0.01 * x2 + 10*x2**2 + 1"
   ]
  },
  {
   "cell_type": "code",
   "execution_count": 240,
   "metadata": {},
   "outputs": [],
   "source": [
    "#fig = plt.figure(figsize = (10, 10))\n",
    "#ax = fig.add_subplot(1, 1, 1, projection = '3d')\n",
    "#x1_val = np.linspace(-1, 1, 100)\n",
    "#x2_val = np.linspace(-1, 1, 100)\n",
    "#x1, x2 = np.meshgrid(x1_val, x2_val)\n",
    "#z = u(x1, x2)\n",
    "#\n",
    "#surf = ax.plot_surface(x1, x2, z, rstride = 3, cstride = 3, cmap = cm.plasma)\n",
    "#ax.set_xlabel('X1', labelpad = 15)\n",
    "#ax.set_ylabel('X2', labelpad = 15)\n",
    "#ax.set_zlabel('U', labelpad = 15)"
   ]
  },
  {
   "cell_type": "code",
   "execution_count": 241,
   "metadata": {},
   "outputs": [],
   "source": [
    "#fig = plt.subplots()\n",
    "#x = np.linspace(-1, 1,100)\n",
    "#plt.plot(x, u(x, 0))\n",
    "#plt.title('u(x1, 0)')\n",
    "#plt.xlabel('x1')\n",
    "#plt.ylabel('U')\n",
    "#plt.show()"
   ]
  },
  {
   "cell_type": "code",
   "execution_count": 242,
   "metadata": {},
   "outputs": [],
   "source": [
    "#fig = plt.subplots()\n",
    "#x = np.linspace(-1, 1,100)\n",
    "#plt.plot(x, u(0, x))\n",
    "#plt.title('u(0, x2)')\n",
    "#plt.xlabel('x2')\n",
    "#plt.ylabel('U')\n",
    "#plt.show()"
   ]
  },
  {
   "cell_type": "markdown",
   "metadata": {},
   "source": [
    "# Генерация данных"
   ]
  },
  {
   "cell_type": "code",
   "execution_count": 243,
   "metadata": {},
   "outputs": [],
   "source": [
    "import random"
   ]
  },
  {
   "cell_type": "code",
   "execution_count": 244,
   "metadata": {},
   "outputs": [],
   "source": [
    "#генерим 100 точек\n",
    "x = []\n",
    "y = []\n",
    "for i in range(100):\n",
    "    x.append(random.uniform(-1,1))\n",
    "    y.append(random.uniform(-1,1))\n",
    "#\n",
    "#fig = plt.subplots()\n",
    "#\n",
    "#\n",
    "#plt.scatter(x, y)\n",
    "#plt.show()"
   ]
  },
  {
   "cell_type": "code",
   "execution_count": 245,
   "metadata": {},
   "outputs": [],
   "source": [
    "import pandas as pd\n",
    "df = pd.DataFrame(columns = [\"i\", \"x1\", \"x2\", \"u\", \"y\",\"y_o\",\"u-y_o\", \"y-y_o\"])\n",
    "for i in range(len(x)):\n",
    "    df.loc[i] = [i, x[i], y[i], u(x[i], y[i]),0,0,0,0]\n"
   ]
  },
  {
   "cell_type": "code",
   "execution_count": 246,
   "metadata": {},
   "outputs": [],
   "source": [
    "vec_u = np.array(df.u)"
   ]
  },
  {
   "cell_type": "code",
   "execution_count": 247,
   "metadata": {},
   "outputs": [
    {
     "data": {
      "text/html": [
       "<div>\n",
       "<style scoped>\n",
       "    .dataframe tbody tr th:only-of-type {\n",
       "        vertical-align: middle;\n",
       "    }\n",
       "\n",
       "    .dataframe tbody tr th {\n",
       "        vertical-align: top;\n",
       "    }\n",
       "\n",
       "    .dataframe thead th {\n",
       "        text-align: right;\n",
       "    }\n",
       "</style>\n",
       "<table border=\"1\" class=\"dataframe\">\n",
       "  <thead>\n",
       "    <tr style=\"text-align: right;\">\n",
       "      <th></th>\n",
       "      <th>i</th>\n",
       "      <th>x1</th>\n",
       "      <th>x2</th>\n",
       "      <th>u</th>\n",
       "      <th>y</th>\n",
       "      <th>y_o</th>\n",
       "      <th>u-y_o</th>\n",
       "      <th>y-y_o</th>\n",
       "    </tr>\n",
       "  </thead>\n",
       "  <tbody>\n",
       "    <tr>\n",
       "      <td>0</td>\n",
       "      <td>0.0</td>\n",
       "      <td>-0.923474</td>\n",
       "      <td>-0.760933</td>\n",
       "      <td>5.867642</td>\n",
       "      <td>0.0</td>\n",
       "      <td>0.0</td>\n",
       "      <td>0.0</td>\n",
       "      <td>0.0</td>\n",
       "    </tr>\n",
       "    <tr>\n",
       "      <td>1</td>\n",
       "      <td>1.0</td>\n",
       "      <td>0.815479</td>\n",
       "      <td>-0.031514</td>\n",
       "      <td>1.831745</td>\n",
       "      <td>0.0</td>\n",
       "      <td>0.0</td>\n",
       "      <td>0.0</td>\n",
       "      <td>0.0</td>\n",
       "    </tr>\n",
       "    <tr>\n",
       "      <td>2</td>\n",
       "      <td>2.0</td>\n",
       "      <td>-0.233809</td>\n",
       "      <td>-0.123906</td>\n",
       "      <td>0.919026</td>\n",
       "      <td>0.0</td>\n",
       "      <td>0.0</td>\n",
       "      <td>0.0</td>\n",
       "      <td>0.0</td>\n",
       "    </tr>\n",
       "    <tr>\n",
       "      <td>3</td>\n",
       "      <td>3.0</td>\n",
       "      <td>0.864464</td>\n",
       "      <td>0.714542</td>\n",
       "      <td>6.984788</td>\n",
       "      <td>0.0</td>\n",
       "      <td>0.0</td>\n",
       "      <td>0.0</td>\n",
       "      <td>0.0</td>\n",
       "    </tr>\n",
       "    <tr>\n",
       "      <td>4</td>\n",
       "      <td>4.0</td>\n",
       "      <td>-0.999020</td>\n",
       "      <td>0.267175</td>\n",
       "      <td>0.727455</td>\n",
       "      <td>0.0</td>\n",
       "      <td>0.0</td>\n",
       "      <td>0.0</td>\n",
       "      <td>0.0</td>\n",
       "    </tr>\n",
       "    <tr>\n",
       "      <td>...</td>\n",
       "      <td>...</td>\n",
       "      <td>...</td>\n",
       "      <td>...</td>\n",
       "      <td>...</td>\n",
       "      <td>...</td>\n",
       "      <td>...</td>\n",
       "      <td>...</td>\n",
       "      <td>...</td>\n",
       "    </tr>\n",
       "    <tr>\n",
       "      <td>95</td>\n",
       "      <td>95.0</td>\n",
       "      <td>-0.604829</td>\n",
       "      <td>0.351013</td>\n",
       "      <td>1.634439</td>\n",
       "      <td>0.0</td>\n",
       "      <td>0.0</td>\n",
       "      <td>0.0</td>\n",
       "      <td>0.0</td>\n",
       "    </tr>\n",
       "    <tr>\n",
       "      <td>96</td>\n",
       "      <td>96.0</td>\n",
       "      <td>-0.225485</td>\n",
       "      <td>0.153075</td>\n",
       "      <td>1.010875</td>\n",
       "      <td>0.0</td>\n",
       "      <td>0.0</td>\n",
       "      <td>0.0</td>\n",
       "      <td>0.0</td>\n",
       "    </tr>\n",
       "    <tr>\n",
       "      <td>97</td>\n",
       "      <td>97.0</td>\n",
       "      <td>-0.961953</td>\n",
       "      <td>-0.661870</td>\n",
       "      <td>4.421405</td>\n",
       "      <td>0.0</td>\n",
       "      <td>0.0</td>\n",
       "      <td>0.0</td>\n",
       "      <td>0.0</td>\n",
       "    </tr>\n",
       "    <tr>\n",
       "      <td>98</td>\n",
       "      <td>98.0</td>\n",
       "      <td>-0.468753</td>\n",
       "      <td>0.687518</td>\n",
       "      <td>5.267129</td>\n",
       "      <td>0.0</td>\n",
       "      <td>0.0</td>\n",
       "      <td>0.0</td>\n",
       "      <td>0.0</td>\n",
       "    </tr>\n",
       "    <tr>\n",
       "      <td>99</td>\n",
       "      <td>99.0</td>\n",
       "      <td>0.003799</td>\n",
       "      <td>0.383017</td>\n",
       "      <td>2.474648</td>\n",
       "      <td>0.0</td>\n",
       "      <td>0.0</td>\n",
       "      <td>0.0</td>\n",
       "      <td>0.0</td>\n",
       "    </tr>\n",
       "  </tbody>\n",
       "</table>\n",
       "<p>100 rows × 8 columns</p>\n",
       "</div>"
      ],
      "text/plain": [
       "       i        x1        x2         u    y  y_o  u-y_o  y-y_o\n",
       "0    0.0 -0.923474 -0.760933  5.867642  0.0  0.0    0.0    0.0\n",
       "1    1.0  0.815479 -0.031514  1.831745  0.0  0.0    0.0    0.0\n",
       "2    2.0 -0.233809 -0.123906  0.919026  0.0  0.0    0.0    0.0\n",
       "3    3.0  0.864464  0.714542  6.984788  0.0  0.0    0.0    0.0\n",
       "4    4.0 -0.999020  0.267175  0.727455  0.0  0.0    0.0    0.0\n",
       "..   ...       ...       ...       ...  ...  ...    ...    ...\n",
       "95  95.0 -0.604829  0.351013  1.634439  0.0  0.0    0.0    0.0\n",
       "96  96.0 -0.225485  0.153075  1.010875  0.0  0.0    0.0    0.0\n",
       "97  97.0 -0.961953 -0.661870  4.421405  0.0  0.0    0.0    0.0\n",
       "98  98.0 -0.468753  0.687518  5.267129  0.0  0.0    0.0    0.0\n",
       "99  99.0  0.003799  0.383017  2.474648  0.0  0.0    0.0    0.0\n",
       "\n",
       "[100 rows x 8 columns]"
      ]
     },
     "execution_count": 247,
     "metadata": {},
     "output_type": "execute_result"
    }
   ],
   "source": [
    "df"
   ]
  },
  {
   "cell_type": "code",
   "execution_count": 248,
   "metadata": {},
   "outputs": [],
   "source": [
    "p = 0.1"
   ]
  },
  {
   "cell_type": "code",
   "execution_count": 249,
   "metadata": {},
   "outputs": [
    {
     "data": {
      "text/plain": [
       "1.0390001351127587"
      ]
     },
     "execution_count": 249,
     "metadata": {},
     "output_type": "execute_result"
    }
   ],
   "source": [
    "mean = df.u.mean()\n",
    "w2 = np.dot(df.u - mean, df.u - mean)/(len(df.u) - 1)\n",
    "sigma = p*w2\n",
    "sigmaE = sigma\n",
    "sigmaE"
   ]
  },
  {
   "cell_type": "code",
   "execution_count": 250,
   "metadata": {},
   "outputs": [
    {
     "data": {
      "text/plain": [
       "10.390001351127585"
      ]
     },
     "execution_count": 250,
     "metadata": {},
     "output_type": "execute_result"
    }
   ],
   "source": [
    "w2"
   ]
  },
  {
   "cell_type": "markdown",
   "metadata": {},
   "source": [
    "# Лаба 2"
   ]
  },
  {
   "cell_type": "markdown",
   "metadata": {},
   "source": [
    "## Неизвестная случайная ошибка"
   ]
  },
  {
   "cell_type": "code",
   "execution_count": 251,
   "metadata": {},
   "outputs": [],
   "source": [
    "import scipy\n",
    "from scipy import optimize\n",
    "import math"
   ]
  },
  {
   "cell_type": "code",
   "execution_count": 252,
   "metadata": {},
   "outputs": [],
   "source": [
    "def l2(f, Q, u, p):\n",
    "    for i in range(len(df.u)):\n",
    "        df.u[i] = u(df.x1[i], df.x2[i])\n",
    "    \n",
    "    mean = df.u.mean()\n",
    "    w2 = np.dot(df.u - mean, df.u - mean)/(len(df.u) - 1)\n",
    "    sigma = p*w2\n",
    "    \n",
    "    e = np.random.normal(0, sigma**0.5, len(df.u))\n",
    "    for i in range(len(df['u'])):\n",
    "        df['y'][i] = df[\"u\"][i] + e[i]\n",
    "        \n",
    "    X = []\n",
    "    for i in range(len(Q)):\n",
    "        X.append([])\n",
    "        for j in range(len(df['u'])):\n",
    "            X[i].append(f(df['x1'][j],df['x2'][j])[i])\n",
    "    X = np.matrix(X)\n",
    "    \n",
    "    QT = np.linalg.inv(X.dot(X.T))\n",
    "    QT = QT.dot(X)\n",
    "    QT = QT.dot(np.matrix(df.y).T)\n",
    "    \n",
    "    y_o = X.T.dot(QT)\n",
    "    for i in range(len(df['u'])):\n",
    "        df['y_o'][i] = y_o[i]\n",
    "        df['y-y_o'][i] = df.y[i]-y_o[i]\n",
    "        df['u-y_o'][i] = df.u[i]-df.y_o[i]\n",
    "    e_o = df.y - df.y_o\n",
    "    sigma2 = (e_o.T.dot(e_o)/(len(df[\"u\"])-len(Q)))\n",
    "    F = sigma2/sigma\n",
    "    print(sigma)\n",
    "    return QT, sigma2, F, X "
   ]
  },
  {
   "cell_type": "code",
   "execution_count": 253,
   "metadata": {},
   "outputs": [
    {
     "name": "stdout",
     "output_type": "stream",
     "text": [
      "1.0390001351127587\n"
     ]
    },
    {
     "data": {
      "text/plain": [
       "(matrix([[ 1.00729921],\n",
       "         [ 1.01841239],\n",
       "         [ 0.16454225],\n",
       "         [10.30119107],\n",
       "         [ 0.10607265]]),\n",
       " 1.4034782407160369,\n",
       " 1.350796976136796,\n",
       " matrix([[ 1.00000000e+00,  1.00000000e+00,  1.00000000e+00,\n",
       "           1.00000000e+00,  1.00000000e+00,  1.00000000e+00,\n",
       "           1.00000000e+00,  1.00000000e+00,  1.00000000e+00,\n",
       "           1.00000000e+00,  1.00000000e+00,  1.00000000e+00,\n",
       "           1.00000000e+00,  1.00000000e+00,  1.00000000e+00,\n",
       "           1.00000000e+00,  1.00000000e+00,  1.00000000e+00,\n",
       "           1.00000000e+00,  1.00000000e+00,  1.00000000e+00,\n",
       "           1.00000000e+00,  1.00000000e+00,  1.00000000e+00,\n",
       "           1.00000000e+00,  1.00000000e+00,  1.00000000e+00,\n",
       "           1.00000000e+00,  1.00000000e+00,  1.00000000e+00,\n",
       "           1.00000000e+00,  1.00000000e+00,  1.00000000e+00,\n",
       "           1.00000000e+00,  1.00000000e+00,  1.00000000e+00,\n",
       "           1.00000000e+00,  1.00000000e+00,  1.00000000e+00,\n",
       "           1.00000000e+00,  1.00000000e+00,  1.00000000e+00,\n",
       "           1.00000000e+00,  1.00000000e+00,  1.00000000e+00,\n",
       "           1.00000000e+00,  1.00000000e+00,  1.00000000e+00,\n",
       "           1.00000000e+00,  1.00000000e+00,  1.00000000e+00,\n",
       "           1.00000000e+00,  1.00000000e+00,  1.00000000e+00,\n",
       "           1.00000000e+00,  1.00000000e+00,  1.00000000e+00,\n",
       "           1.00000000e+00,  1.00000000e+00,  1.00000000e+00,\n",
       "           1.00000000e+00,  1.00000000e+00,  1.00000000e+00,\n",
       "           1.00000000e+00,  1.00000000e+00,  1.00000000e+00,\n",
       "           1.00000000e+00,  1.00000000e+00,  1.00000000e+00,\n",
       "           1.00000000e+00,  1.00000000e+00,  1.00000000e+00,\n",
       "           1.00000000e+00,  1.00000000e+00,  1.00000000e+00,\n",
       "           1.00000000e+00,  1.00000000e+00,  1.00000000e+00,\n",
       "           1.00000000e+00,  1.00000000e+00,  1.00000000e+00,\n",
       "           1.00000000e+00,  1.00000000e+00,  1.00000000e+00,\n",
       "           1.00000000e+00,  1.00000000e+00,  1.00000000e+00,\n",
       "           1.00000000e+00,  1.00000000e+00,  1.00000000e+00,\n",
       "           1.00000000e+00,  1.00000000e+00,  1.00000000e+00,\n",
       "           1.00000000e+00,  1.00000000e+00,  1.00000000e+00,\n",
       "           1.00000000e+00,  1.00000000e+00,  1.00000000e+00,\n",
       "           1.00000000e+00],\n",
       "         [-9.23474421e-01,  8.15479085e-01, -2.33808526e-01,\n",
       "           8.64464027e-01, -9.99020027e-01,  1.36889452e-01,\n",
       "           6.64218649e-01, -4.74169043e-01, -2.50159935e-01,\n",
       "          -4.39239859e-01, -5.43099411e-01,  3.41197846e-01,\n",
       "           2.98627838e-01,  4.03189728e-01,  5.48126165e-01,\n",
       "           8.90096974e-01,  4.11985632e-01, -4.20282079e-03,\n",
       "           7.92568131e-01, -5.57757977e-02, -1.29279441e-02,\n",
       "           4.00084250e-02, -6.13775513e-01, -4.41935379e-01,\n",
       "           4.50742317e-01, -2.20152065e-02,  4.03427357e-01,\n",
       "           7.32089833e-01,  2.91949716e-01, -2.87589064e-01,\n",
       "          -6.61729390e-01, -5.27389400e-01, -6.23728758e-01,\n",
       "          -1.66728397e-04,  7.58221232e-01, -7.14925787e-01,\n",
       "           5.23927706e-01,  2.30073348e-02, -1.65509582e-01,\n",
       "           7.79158530e-01, -8.24151516e-01,  5.08061788e-01,\n",
       "           2.57744554e-01,  7.57490845e-01, -3.23589061e-02,\n",
       "          -4.13778573e-01,  7.88391884e-01, -2.02390935e-01,\n",
       "          -5.70057796e-02,  3.33676784e-01, -4.72817637e-01,\n",
       "          -6.16608063e-01, -1.60751448e-01,  8.76316638e-01,\n",
       "          -7.05668337e-01, -9.96681998e-01,  5.79011313e-01,\n",
       "           5.04289793e-01,  1.43608179e-01, -7.33301033e-01,\n",
       "           9.77990604e-01, -8.42368946e-01, -4.43147058e-01,\n",
       "           8.88887818e-01, -4.69474809e-01,  9.93393795e-01,\n",
       "           2.78943422e-01,  9.44198823e-01,  2.66415076e-03,\n",
       "          -6.22205885e-01,  9.96803887e-01, -7.79941998e-01,\n",
       "          -3.45998766e-02, -7.72829850e-01,  6.81182577e-01,\n",
       "          -1.16727834e-01,  2.03144508e-01,  4.89724885e-01,\n",
       "           1.78636780e-01,  7.59651842e-01, -5.38817446e-01,\n",
       "          -7.92014355e-02, -7.77782062e-01, -3.34787872e-01,\n",
       "          -5.39405383e-01, -1.78779197e-01,  1.28402703e-02,\n",
       "          -7.76446568e-01, -1.41231786e-01,  7.57446340e-02,\n",
       "           4.33849207e-01,  6.45228057e-01,  7.32567536e-01,\n",
       "          -8.17085231e-01, -1.02373089e-01, -6.04829148e-01,\n",
       "          -2.25485188e-01, -9.61953000e-01, -4.68753209e-01,\n",
       "           3.79850118e-03],\n",
       "         [ 8.52805006e-01,  6.65006138e-01,  5.46664266e-02,\n",
       "           7.47298053e-01,  9.98041015e-01,  1.87387222e-02,\n",
       "           4.41186414e-01,  2.24836281e-01,  6.25799929e-02,\n",
       "           1.92931654e-01,  2.94956970e-01,  1.16415970e-01,\n",
       "           8.91785858e-02,  1.62561957e-01,  3.00442292e-01,\n",
       "           7.92272624e-01,  1.69732161e-01,  1.76637026e-05,\n",
       "           6.28164242e-01,  3.11093961e-03,  1.67131739e-04,\n",
       "           1.60067407e-03,  3.76720380e-01,  1.95306879e-01,\n",
       "           2.03168636e-01,  4.84669315e-04,  1.62753633e-01,\n",
       "           5.35955524e-01,  8.52346368e-02,  8.27074700e-02,\n",
       "           4.37885786e-01,  2.78139579e-01,  3.89037563e-01,\n",
       "           2.77983585e-08,  5.74899436e-01,  5.11118881e-01,\n",
       "           2.74500241e-01,  5.29337454e-04,  2.73934217e-02,\n",
       "           6.07088014e-01,  6.79225722e-01,  2.58126780e-01,\n",
       "           6.64322550e-02,  5.73792381e-01,  1.04709880e-03,\n",
       "           1.71212707e-01,  6.21561763e-01,  4.09620904e-02,\n",
       "           3.24965890e-03,  1.11340196e-01,  2.23556518e-01,\n",
       "           3.80205504e-01,  2.58410282e-02,  7.67930850e-01,\n",
       "           4.97967802e-01,  9.93375006e-01,  3.35254101e-01,\n",
       "           2.54308195e-01,  2.06233090e-02,  5.37730404e-01,\n",
       "           9.56465622e-01,  7.09585440e-01,  1.96379315e-01,\n",
       "           7.90121553e-01,  2.20406596e-01,  9.86831231e-01,\n",
       "           7.78094329e-02,  8.91511418e-01,  7.09769927e-06,\n",
       "           3.87140163e-01,  9.93617989e-01,  6.08309520e-01,\n",
       "           1.19715146e-03,  5.97265978e-01,  4.64009703e-01,\n",
       "           1.36253872e-02,  4.12676912e-02,  2.39830463e-01,\n",
       "           3.19110992e-02,  5.77070921e-01,  2.90324241e-01,\n",
       "           6.27286738e-03,  6.04944936e-01,  1.12082919e-01,\n",
       "           2.90958167e-01,  3.19620013e-02,  1.64872541e-04,\n",
       "           6.02869273e-01,  1.99464175e-02,  5.73724958e-03,\n",
       "           1.88225135e-01,  4.16319245e-01,  5.36655195e-01,\n",
       "           6.67628274e-01,  1.04802493e-02,  3.65818298e-01,\n",
       "           5.08435702e-02,  9.25353575e-01,  2.19729571e-01,\n",
       "           1.44286112e-05],\n",
       "         [ 5.79019750e-01,  9.93142649e-04,  1.53526424e-02,\n",
       "           5.10570540e-01,  7.13823051e-02,  4.51628187e-01,\n",
       "           3.11233720e-01,  5.71378985e-01,  6.45925140e-01,\n",
       "           9.25305419e-02,  5.23439856e-02,  7.34525817e-02,\n",
       "           9.83855173e-01,  7.13150565e-01,  2.73657957e-01,\n",
       "           1.49030464e-01,  9.19885293e-01,  1.27471718e-01,\n",
       "           2.97686249e-02,  4.14128877e-01,  2.16837805e-01,\n",
       "           1.99843808e-01,  5.61122623e-01,  2.13967046e-01,\n",
       "           4.48815045e-01,  6.73455715e-01,  9.24220500e-01,\n",
       "           3.58449187e-01,  3.21830735e-01,  9.54735559e-01,\n",
       "           3.17782642e-01,  1.99465329e-01,  4.44744193e-02,\n",
       "           9.85581363e-01,  6.31623022e-01,  1.47493536e-01,\n",
       "           9.42797214e-01,  9.99239314e-01,  2.17436756e-01,\n",
       "           2.55450401e-01,  2.51073666e-06,  1.70293928e-01,\n",
       "           9.91922644e-02,  1.73625263e-03,  8.79348146e-01,\n",
       "           8.13273788e-01,  8.58873729e-01,  2.93035404e-02,\n",
       "           3.61170239e-01,  2.18319878e-01,  9.34077038e-01,\n",
       "           5.28739002e-01,  1.23526216e-01,  4.49723350e-02,\n",
       "           1.51673085e-02,  2.10395868e-01,  6.33478435e-01,\n",
       "           5.89551350e-01,  9.15657500e-03,  4.88281644e-01,\n",
       "           5.37328431e-01,  7.79529869e-01,  6.19337019e-02,\n",
       "           3.37542463e-01,  1.68847914e-01,  3.53968505e-01,\n",
       "           1.64991134e-01,  1.51073837e-01,  6.46128940e-01,\n",
       "           5.66564207e-01,  6.96953372e-01,  5.23484002e-01,\n",
       "           4.42318606e-03,  5.10812100e-01,  6.56368377e-02,\n",
       "           3.38826114e-02,  8.44106115e-01,  3.74085777e-01,\n",
       "           9.91347615e-01,  4.49418384e-02,  6.53628540e-03,\n",
       "           8.19235163e-01,  9.53002680e-02,  5.63794283e-01,\n",
       "           7.22530996e-01,  2.44800551e-01,  5.04544427e-02,\n",
       "           2.90744650e-01,  9.05450928e-02,  1.55540090e-01,\n",
       "           6.52680072e-01,  8.63777959e-02,  9.94268983e-01,\n",
       "           2.41898965e-01,  7.06403910e-01,  1.23210031e-01,\n",
       "           2.34321005e-02,  4.38072289e-01,  4.72680936e-01,\n",
       "           1.46701905e-01],\n",
       "         [-7.60933473e-01, -3.15141659e-02, -1.23905780e-01,\n",
       "           7.14542189e-01,  2.67174672e-01, -6.72032876e-01,\n",
       "          -5.57883249e-01,  7.55896147e-01, -8.03694681e-01,\n",
       "           3.04188333e-01,  2.28788080e-01, -2.71021368e-01,\n",
       "           9.91894739e-01, -8.44482425e-01,  5.23123271e-01,\n",
       "           3.86044639e-01, -9.59106508e-01, -3.57031816e-01,\n",
       "           1.72535866e-01,  6.43528459e-01, -4.65658464e-01,\n",
       "          -4.47038933e-01, -7.49081186e-01,  4.62565721e-01,\n",
       "          -6.69936598e-01, -8.20643476e-01,  9.61363875e-01,\n",
       "           5.98706261e-01, -5.67301273e-01,  9.77105705e-01,\n",
       "           5.63722132e-01, -4.46615415e-01,  2.10889590e-01,\n",
       "           9.92764505e-01, -7.94747143e-01, -3.84048872e-01,\n",
       "           9.70977453e-01, -9.99619585e-01,  4.66301143e-01,\n",
       "          -5.05421013e-01, -1.58453042e-03,  4.12666849e-01,\n",
       "           3.14948034e-01, -4.16683648e-02, -9.37735648e-01,\n",
       "           9.01816937e-01,  9.26754406e-01, -1.71182769e-01,\n",
       "           6.00974408e-01,  4.67247127e-01, -9.66476610e-01,\n",
       "          -7.27144416e-01,  3.51462966e-01, -2.12066817e-01,\n",
       "          -1.23155627e-01, -4.58689294e-01,  7.95913585e-01,\n",
       "           7.67822473e-01,  9.56899943e-02,  6.98771525e-01,\n",
       "          -7.33026897e-01,  8.82909887e-01, -2.48864827e-01,\n",
       "          -5.80984047e-01, -4.10911079e-01, -5.94952523e-01,\n",
       "           4.06191007e-01, -3.88682180e-01,  8.03821460e-01,\n",
       "          -7.52704595e-01, -8.34837333e-01, -7.23521943e-01,\n",
       "          -6.65070377e-02,  7.14711200e-01,  2.56196873e-01,\n",
       "           1.84072299e-01, -9.18752477e-01,  6.11625520e-01,\n",
       "           9.95664409e-01, -2.11994902e-01,  8.08472968e-02,\n",
       "          -9.05116105e-01, -3.08707415e-01, -7.50862360e-01,\n",
       "          -8.50018232e-01, -4.94773232e-01, -2.24620664e-01,\n",
       "          -5.39207427e-01,  3.00907117e-01, -3.94385712e-01,\n",
       "           8.07886175e-01,  2.93900997e-01, -9.97130374e-01,\n",
       "          -4.91832253e-01, -8.40478382e-01,  3.51012864e-01,\n",
       "           1.53075473e-01, -6.61870296e-01,  6.87517954e-01,\n",
       "           3.83016846e-01]]))"
      ]
     },
     "execution_count": 253,
     "metadata": {},
     "output_type": "execute_result"
    }
   ],
   "source": [
    "l2(f,Q,u,0.1)"
   ]
  },
  {
   "cell_type": "code",
   "execution_count": null,
   "metadata": {},
   "outputs": [],
   "source": []
  },
  {
   "cell_type": "code",
   "execution_count": 254,
   "metadata": {},
   "outputs": [],
   "source": [
    "#df.to_excel(\"output.xlsx\")"
   ]
  },
  {
   "cell_type": "markdown",
   "metadata": {},
   "source": [
    "# Лаба 3"
   ]
  },
  {
   "cell_type": "markdown",
   "metadata": {},
   "source": [
    "#### 1) Изменить модель регрессии, добавив в неё дополнительный регрессор, ранее не вошедший в состав модели, порождающей данные. Не генерируя новых данных, найти точечные оценки всех параметров расширенной модели. В дальнейшем при рассмотрении этой расширенной модели анализе должно быть показано, что параметр при дополнительном регрессоре незначим."
   ]
  },
  {
   "cell_type": "code",
   "execution_count": 255,
   "metadata": {},
   "outputs": [],
   "source": [
    "import numpy as np"
   ]
  },
  {
   "cell_type": "code",
   "execution_count": 256,
   "metadata": {},
   "outputs": [],
   "source": [
    "f_old = lambda x1, x2 : np.array([1, x1, x1**2, x2**2, x2]) \n",
    "Q_old = np.array([1, 1, 0.01, 10, 0.01])\n",
    "u_old = lambda x1, x2: x1 + 0.01 * x1**2 + 0.01 * x2 + 10*x2**2 + 1\n",
    "\n",
    "# Добавим доп регрессор x1*x2\n",
    "f = lambda x1, x2 : np.array([1, x1, x1**2, x2**2, x2, x1 * x2]) \n",
    "Q = np.array([1, 1, 0.01, 10, 0.01, 0.01])\n",
    "u = lambda x1, x2: x1 + 0.01 * x1**2 + 0.01 * x2 + 10*x2**2 + 0.01*x1 * x2 + 1"
   ]
  },
  {
   "cell_type": "code",
   "execution_count": 257,
   "metadata": {},
   "outputs": [
    {
     "name": "stdout",
     "output_type": "stream",
     "text": [
      "1.0390001351127587\n",
      "[[ 0.80092102]\n",
      " [ 0.82684247]\n",
      " [-0.14216552]\n",
      " [10.27123256]\n",
      " [ 0.07712779]] 1.1981971309020412 1.153221342721005\n"
     ]
    }
   ],
   "source": [
    "#Оценки старой модели: \n",
    "QT_old, sigma2_old, F_old, X_old = l2(f_old,Q_old, u_old, 0.1)\n",
    "print(QT_old, sigma2_old, F_old)"
   ]
  },
  {
   "cell_type": "code",
   "execution_count": 258,
   "metadata": {},
   "outputs": [
    {
     "name": "stdout",
     "output_type": "stream",
     "text": [
      "1.0389669355707252\n",
      "[[ 1.07574857]\n",
      " [ 0.92484511]\n",
      " [-0.32782173]\n",
      " [10.17214891]\n",
      " [-0.09514903]\n",
      " [ 0.2305393 ]] 1.1006312165125576 1.059351533557667\n"
     ]
    },
    {
     "data": {
      "text/plain": [
       "(6, 100)"
      ]
     },
     "execution_count": 258,
     "metadata": {},
     "output_type": "execute_result"
    }
   ],
   "source": [
    "#Оценки новой модели:\n",
    "QT, sigma2, F, X = l2(f,Q,u,0.1)\n",
    "print(QT, sigma2, F)\n",
    "X.shape"
   ]
  },
  {
   "cell_type": "markdown",
   "metadata": {},
   "source": [
    "#### 2) Построить доверительные интервалы для каждого параметра модели регрессии."
   ]
  },
  {
   "cell_type": "code",
   "execution_count": 259,
   "metadata": {},
   "outputs": [],
   "source": [
    "#n=100 m=6 квантиль распределение Стьюдента = 1.9850\n",
    "t=1.950"
   ]
  },
  {
   "cell_type": "code",
   "execution_count": 260,
   "metadata": {},
   "outputs": [
    {
     "name": "stdout",
     "output_type": "stream",
     "text": [
      "[[ 0.66299689]\n",
      " [ 0.55452492]\n",
      " [-1.0259542 ]\n",
      " [ 9.50848096]\n",
      " [-0.43042202]\n",
      " [-0.39189847]]\n",
      "\n",
      "[ 1.    1.    0.01 10.    0.01  0.01]\n",
      "[[ 1.07574857]\n",
      " [ 0.92484511]\n",
      " [-0.32782173]\n",
      " [10.17214891]\n",
      " [-0.09514903]\n",
      " [ 0.2305393 ]]\n",
      "\n",
      "[[ 1.48850026]\n",
      " [ 1.29516529]\n",
      " [ 0.37031073]\n",
      " [10.83581686]\n",
      " [ 0.24012395]\n",
      " [ 0.85297707]]\n"
     ]
    }
   ],
   "source": [
    "djj=np.diagonal(np.linalg.inv((X.dot(X.T))))\n",
    "sigma_Qj = np.diagonal(sigma2*np.linalg.inv((X.dot(X.T))))**0.5\n",
    "\n",
    "Qmin = QT-t*np.matrix(sigma_Qj).T\n",
    "Qmax = QT+t*np.matrix(sigma_Qj).T\n",
    "print(Qmin)\n",
    "print()\n",
    "print(Q)\n",
    "print(QT)\n",
    "print()\n",
    "print(Qmax)"
   ]
  },
  {
   "cell_type": "code",
   "execution_count": 261,
   "metadata": {},
   "outputs": [
    {
     "name": "stdout",
     "output_type": "stream",
     "text": [
      "1\n",
      "1\n",
      "1\n",
      "1\n",
      "1\n",
      "1\n"
     ]
    }
   ],
   "source": [
    "flag = 1\n",
    "for i in range(len(Q)):\n",
    "    if Q[i]<Qmax[i][0] and Q[i]>Qmin[i][0] and QT[i][0]<Qmax[i][0] and QT[i][0]>Qmin[i][0]:\n",
    "        flag=1\n",
    "    else:\n",
    "        flag=0\n",
    "    print(flag)"
   ]
  },
  {
   "cell_type": "code",
   "execution_count": 262,
   "metadata": {},
   "outputs": [
    {
     "data": {
      "text/plain": [
       "(6, 1)"
      ]
     },
     "execution_count": 262,
     "metadata": {},
     "output_type": "execute_result"
    }
   ],
   "source": [
    "Qmax.shape"
   ]
  },
  {
   "cell_type": "markdown",
   "metadata": {},
   "source": [
    "#### 3) Проверить гипотезу о незначимости каждого параметра модели."
   ]
  },
  {
   "cell_type": "code",
   "execution_count": 263,
   "metadata": {},
   "outputs": [],
   "source": [
    "#F(1,94) ~ 3.92 вроде бы"
   ]
  },
  {
   "cell_type": "code",
   "execution_count": 264,
   "metadata": {},
   "outputs": [
    {
     "name": "stdout",
     "output_type": "stream",
     "text": [
      "Отвергается\n",
      "Отвергается\n",
      "Принимается\n",
      "Отвергается\n",
      "Принимается\n",
      "Принимается\n",
      "[25.829326054133087, 23.716601760977564, 0.838434297553756, 893.2909826449056, 0.30625336507964535, 0.5216356562029222]\n"
     ]
    }
   ],
   "source": [
    "F=[]\n",
    "for j in range(len(Q)):\n",
    "    F.append(float(QT[j][0])**2/(sigma2*djj[j]))\n",
    "    if F[j]<3.92:\n",
    "        print('Принимается')\n",
    "    else:\n",
    "        print('Отвергается')\n",
    "print(F)"
   ]
  },
  {
   "cell_type": "code",
   "execution_count": null,
   "metadata": {},
   "outputs": [],
   "source": []
  },
  {
   "cell_type": "markdown",
   "metadata": {},
   "source": [
    "#### 4)  Проверить гипотезу о значимости самой регрессии."
   ]
  },
  {
   "cell_type": "code",
   "execution_count": 265,
   "metadata": {},
   "outputs": [
    {
     "name": "stdout",
     "output_type": "stream",
     "text": [
      "103.4593343521804\n",
      "1167.6429582952612\n",
      "193.3769655044014\n"
     ]
    }
   ],
   "source": [
    "RSS=(np.array(df.y)-X.T.dot(QT).T)\n",
    "RSS=float(RSS.dot(RSS.T))\n",
    "print(RSS)\n",
    "RSSh=0\n",
    "for i in range(len(df.y)):\n",
    "    #RSSh+=(df.y[i]-df.u[i])**2\n",
    "    RSSh+=(df.y[i]-np.mean(df.u))**2\n",
    "print(RSSh)\n",
    "m=6\n",
    "n=100\n",
    "q=m-1\n",
    "F=((RSSh-RSS)/q)/(RSS/(n-m))\n",
    "print(F)"
   ]
  },
  {
   "cell_type": "code",
   "execution_count": null,
   "metadata": {},
   "outputs": [],
   "source": []
  },
  {
   "cell_type": "code",
   "execution_count": 266,
   "metadata": {},
   "outputs": [],
   "source": [
    "#F=278 > F(5,94) = 2.2899\n",
    "#Гипотеза о незначимости регрессии отвергается"
   ]
  },
  {
   "cell_type": "markdown",
   "metadata": {},
   "source": [
    "#### 5)  Рассчитать прогнозные значения для математического ожидания функции отклика для всего интервала действия одного из факторов, зафиксировав значения других факторов на границе или в центре области их определения."
   ]
  },
  {
   "cell_type": "code",
   "execution_count": null,
   "metadata": {},
   "outputs": [],
   "source": []
  },
  {
   "cell_type": "code",
   "execution_count": 267,
   "metadata": {},
   "outputs": [],
   "source": [
    "sigma_nu = lambda x1, x2 : sigma2*float(f(x1,x2).dot(np.linalg.inv(X.dot(X.T)).dot(np.matrix(f(x1,x2)).T)))**0.5"
   ]
  },
  {
   "cell_type": "code",
   "execution_count": 268,
   "metadata": {},
   "outputs": [],
   "source": [
    "def sigma_nu (x1, x2) : \n",
    "    return sigma2*np.array(f(x1,x2)*np.linalg.inv(X.dot(X.T))*np.matrix(f(x1,x2)).T)"
   ]
  },
  {
   "cell_type": "code",
   "execution_count": 269,
   "metadata": {},
   "outputs": [],
   "source": [
    "nu = lambda x1, x2, Q : sum(np.array([1*Q[0], x1*Q[1], x1**2*Q[2], x2**2*Q[3], x2*Q[4], x1 * x2*Q[5]]))\n",
    "nu_min = lambda x1, x2, Q : np.float64(nu(x1,x2,Q) - t*(sigma_nu(x1,x2)[0][0]))\n",
    "nu_max = lambda x1, x2, Q : np.float64(nu(x1,x2,Q) + t*(sigma_nu(x1,x2)[0][0]))"
   ]
  },
  {
   "cell_type": "code",
   "execution_count": 270,
   "metadata": {},
   "outputs": [],
   "source": [
    "#fig = plt.subplots()\n",
    "#x = np.linspace(-1, 1,100)\n",
    "#\n",
    "#plt.plot(x, nu(x, 0,np.array(QT)))\n",
    "#plt.plot(x, nu_min(x, 0,np.array(QT)))\n",
    "#plt.plot(x, nu_max(x, 0,np.array(QT)))\n",
    "#plt.title('u(x1, 0)')\n",
    "#plt.show()"
   ]
  },
  {
   "cell_type": "code",
   "execution_count": 271,
   "metadata": {},
   "outputs": [],
   "source": [
    "#fig = plt.subplots()\n",
    "#x = np.linspace(-1, 1,100)\n",
    "#\n",
    "#plt.plot(x, nu(0, x,np.array(QT)))\n",
    "#plt.plot(x, nu_min(0, x,np.array(QT)))\n",
    "#plt.plot(x, nu_max(0, x,np.array(QT)))\n",
    "#plt.title('u(0, x2)')\n",
    "#plt.show()"
   ]
  },
  {
   "cell_type": "markdown",
   "metadata": {},
   "source": [
    "#### 6) Построить график прогнозных значений и доверительной полосы для математического ожидания функции отклика и для самого отклика."
   ]
  },
  {
   "cell_type": "code",
   "execution_count": 272,
   "metadata": {},
   "outputs": [],
   "source": [
    "#fig = plt.subplots()\n",
    "#x = np.linspace(-0.01, 0.01,100)\n",
    "#\n",
    "#plt.plot(x, nu(x, 0,np.array(QT)))\n",
    "#plt.plot(x, nu_min(x, 0,np.array(QT)))\n",
    "#plt.plot(x, nu_max(x, 0,np.array(QT)))\n",
    "#plt.title('u(x1, 0)')\n",
    "#plt.show()"
   ]
  },
  {
   "cell_type": "code",
   "execution_count": 273,
   "metadata": {},
   "outputs": [],
   "source": [
    "#fig = plt.subplots()\n",
    "#x = np.linspace(-0.0, 0.1,100)\n",
    "#\n",
    "#plt.plot(x, nu(0, x,np.array(QT)))\n",
    "#plt.plot(x, nu_min(0, x,np.array(QT)))\n",
    "#plt.plot(x, nu_max(0, x,np.array(QT)))\n",
    "#plt.title('u(0, x2)')\n",
    "#plt.show()"
   ]
  },
  {
   "cell_type": "markdown",
   "metadata": {},
   "source": [
    "#### 7) Заново смоделировать исходные данные (см. лаб. работу № 1), увеличив мощность случайной помехи до 50…70 % от мощности полезного сигнала и провести оценку параметров. Повторить пункты 3, 4 с новыми данными."
   ]
  },
  {
   "cell_type": "code",
   "execution_count": 274,
   "metadata": {},
   "outputs": [],
   "source": [
    "#Мощность помехи — 70%"
   ]
  },
  {
   "cell_type": "code",
   "execution_count": 275,
   "metadata": {},
   "outputs": [
    {
     "name": "stdout",
     "output_type": "stream",
     "text": [
      "7.272768548995075\n",
      "[[1.23513807]\n",
      " [1.22989301]\n",
      " [0.83240737]\n",
      " [9.06425869]\n",
      " [0.21029098]\n",
      " [1.61556003]] 8.573083055815802 1.1787922299549047\n"
     ]
    },
    {
     "data": {
      "text/plain": [
       "(6, 100)"
      ]
     },
     "execution_count": 275,
     "metadata": {},
     "output_type": "execute_result"
    }
   ],
   "source": [
    "QT, sigma2, F, X = l2(f,Q,u,0.7)\n",
    "print(QT, sigma2, F)\n",
    "X.shape\n",
    "#Модель неадекватная т.к. F > 1.23"
   ]
  },
  {
   "cell_type": "code",
   "execution_count": 276,
   "metadata": {},
   "outputs": [
    {
     "name": "stdout",
     "output_type": "stream",
     "text": [
      "Отвергается\n",
      "Отвергается\n",
      "Отвергается\n",
      "Отвергается\n",
      "Принимается\n",
      "Отвергается\n",
      "[37.47696009827412, 46.162672940516515, 5.9498663617126955, 780.681595193857, 1.6464753647916515, 28.19456324372012]\n"
     ]
    }
   ],
   "source": [
    "#Проверка гипотезы о незначимости каждого параметра\n",
    "F=[]\n",
    "for j in range(len(QT)):\n",
    "    F.append(float(QT[j][0])**2/(djj[j]))\n",
    "    if F[j]<3.92:\n",
    "        print('Принимается')\n",
    "    else:\n",
    "        print('Отвергается')\n",
    "print(F)"
   ]
  },
  {
   "cell_type": "code",
   "execution_count": 277,
   "metadata": {},
   "outputs": [
    {
     "name": "stdout",
     "output_type": "stream",
     "text": [
      "20.790313462322676\n"
     ]
    }
   ],
   "source": [
    "#Проверка гипотезы о значимости самой регрессии\n",
    "RSS=(np.array(df.y)-X.T.dot(QT).T)\n",
    "RSS=float(RSS.dot(RSS.T))\n",
    "RSSh=0\n",
    "for i in range(len(df.y)):\n",
    "    RSSh+=(df.y[i]-np.mean(df.u))**2\n",
    "m=6\n",
    "n=100\n",
    "q=m-1\n",
    "F=((RSSh-RSS)/q)/(RSS/(n-m))\n",
    "print(F)"
   ]
  },
  {
   "cell_type": "code",
   "execution_count": 278,
   "metadata": {},
   "outputs": [],
   "source": [
    "#F=1.34 < F(5,94) = 2.2899\n",
    "# гипотеза о незначимости регрессии принимается"
   ]
  },
  {
   "cell_type": "markdown",
   "metadata": {},
   "source": [
    "# Лаба 4"
   ]
  },
  {
   "cell_type": "markdown",
   "metadata": {},
   "source": [
    "### Дисперсия возмущений – возрастающая функция от двух факторов (взвешенная сумма квадратов факторов)"
   ]
  },
  {
   "cell_type": "markdown",
   "metadata": {},
   "source": [
    "#### Провести моделирование регрессионного процесса с гетероскедастичным возмущением"
   ]
  },
  {
   "cell_type": "markdown",
   "metadata": {},
   "source": [
    "#Дисперсия в центре 5-10% от мощности сигнала, на краях на порядок превышала дисперсию в центре "
   ]
  },
  {
   "cell_type": "code",
   "execution_count": 279,
   "metadata": {},
   "outputs": [],
   "source": [
    "f = lambda x1, x2 : np.array([1, x1, x1**2, x2**2, x2]) \n",
    "Q = np.array([1, 1, 0.01, 10, 0.01])\n",
    "u = lambda x1, x2: x1 + 0.01 * x1**2 + 0.01 * x2 + 10*x2**2 + 1\n",
    "u1 = lambda x1, x2, Q: Q[0] + Q[1]*x1 + Q[2] * x1**2 + Q[3]*x2**2 + Q[4] * x2\n",
    "sig2 = lambda x1,x2 : (x1**2+x2**2) "
   ]
  },
  {
   "cell_type": "code",
   "execution_count": 280,
   "metadata": {},
   "outputs": [],
   "source": [
    "z = np.array([1, sig2])\n"
   ]
  },
  {
   "cell_type": "markdown",
   "metadata": {},
   "source": [
    "#### Полученные данные проверить по тестам на наличие гетероскедастичности"
   ]
  },
  {
   "cell_type": "markdown",
   "metadata": {},
   "source": [
    "#### 1)Тест Бреуша-Пагана"
   ]
  },
  {
   "cell_type": "code",
   "execution_count": 281,
   "metadata": {},
   "outputs": [
    {
     "name": "stdout",
     "output_type": "stream",
     "text": [
      "1.0390001351127587\n"
     ]
    }
   ],
   "source": [
    "QT, sigma2, F, X = l2(f,Q,u,0.1)"
   ]
  },
  {
   "cell_type": "code",
   "execution_count": 282,
   "metadata": {},
   "outputs": [],
   "source": [
    "et = []\n",
    "for i in range(len(df.y)):\n",
    "    et.append(df.y[i] - u1(df.x1[i],df.x2[i],QT))\n",
    "et=np.array(et)\n"
   ]
  },
  {
   "cell_type": "code",
   "execution_count": 283,
   "metadata": {},
   "outputs": [],
   "source": [
    "sigma2 = float(sum(et**2))/len(et) #ОМП оценка дисперсии"
   ]
  },
  {
   "cell_type": "code",
   "execution_count": 284,
   "metadata": {},
   "outputs": [],
   "source": [
    "c=et/sigma2"
   ]
  },
  {
   "cell_type": "code",
   "execution_count": 285,
   "metadata": {},
   "outputs": [],
   "source": [
    "ck=[]\n",
    "for i in range(len(et)):\n",
    "    ck.append(sig2(df.x1[i],df.x2[i]))"
   ]
  },
  {
   "cell_type": "code",
   "execution_count": 286,
   "metadata": {},
   "outputs": [],
   "source": [
    "ESS = 0\n",
    "c_mean = c.mean()\n",
    "for i in range(len(ck)):\n",
    "    ESS+=(ck[i]-c_mean)**2"
   ]
  },
  {
   "cell_type": "code",
   "execution_count": 287,
   "metadata": {},
   "outputs": [
    {
     "data": {
      "text/plain": [
       "33.25792389595705"
      ]
     },
     "execution_count": 287,
     "metadata": {},
     "output_type": "execute_result"
    }
   ],
   "source": [
    "ESS/2"
   ]
  },
  {
   "cell_type": "code",
   "execution_count": 288,
   "metadata": {},
   "outputs": [],
   "source": [
    "#hi^2(0.05,1)=3.841 < ESS/2 = 25.84 => гипотеза о гомоскедастичности отвергается"
   ]
  },
  {
   "cell_type": "code",
   "execution_count": null,
   "metadata": {},
   "outputs": [],
   "source": []
  },
  {
   "cell_type": "markdown",
   "metadata": {},
   "source": [
    "#### 2)  Тест Голдфельда-Квандтона"
   ]
  },
  {
   "cell_type": "code",
   "execution_count": 289,
   "metadata": {},
   "outputs": [],
   "source": [
    "l=[]\n",
    "ind=[]\n",
    "for i in range(len(df.x1)):\n",
    "    l.append(sig2(df.x1[i],df.x2[i]))\n",
    "    ind.append(i)"
   ]
  },
  {
   "cell_type": "code",
   "execution_count": 290,
   "metadata": {},
   "outputs": [],
   "source": [
    "df2 = df.copy(deep=True)"
   ]
  },
  {
   "cell_type": "code",
   "execution_count": 291,
   "metadata": {},
   "outputs": [],
   "source": [
    "df2['Test'] = l"
   ]
  },
  {
   "cell_type": "code",
   "execution_count": 292,
   "metadata": {},
   "outputs": [],
   "source": [
    "df2 = df2.sort_values(by='Test')"
   ]
  },
  {
   "cell_type": "code",
   "execution_count": 293,
   "metadata": {},
   "outputs": [],
   "source": [
    "df2.index = np.arange(len(df2))"
   ]
  },
  {
   "cell_type": "code",
   "execution_count": 294,
   "metadata": {},
   "outputs": [],
   "source": [
    "df2 = df2.drop(np.r_[33:66+1])"
   ]
  },
  {
   "cell_type": "code",
   "execution_count": 295,
   "metadata": {},
   "outputs": [],
   "source": [
    "df2.index = np.arange(len(df2))"
   ]
  },
  {
   "cell_type": "code",
   "execution_count": 296,
   "metadata": {},
   "outputs": [
    {
     "name": "stdout",
     "output_type": "stream",
     "text": [
      "36.87289075051705\n"
     ]
    }
   ],
   "source": [
    "\n",
    "X1 = []\n",
    "for i in range(len(Q)):\n",
    "    X1.append([])\n",
    "    for j in range(len(df2['u'][0:33])):\n",
    "        X1[i].append(f(df2['x1'][j],df2['x2'][j])[i])\n",
    "X1 = np.matrix(X1)\n",
    "\n",
    "QT = np.linalg.inv(X1.dot(X1.T))\n",
    "QT = QT.dot(X1)\n",
    "QT = QT.dot(np.matrix(df2.y[0:33]).T)\n",
    "\n",
    "RSS1=(np.array(df2.y[0:33])-X1.T.dot(QT).T)\n",
    "RSS1=float(RSS1.dot(RSS1.T))\n",
    "print(RSS1)\n"
   ]
  },
  {
   "cell_type": "code",
   "execution_count": 297,
   "metadata": {},
   "outputs": [
    {
     "name": "stdout",
     "output_type": "stream",
     "text": [
      "303.5971352017284\n"
     ]
    }
   ],
   "source": [
    "X2 = []\n",
    "for i in range(len(Q)):\n",
    "    X2.append([])\n",
    "    for j in range(len(df2['u'][33:66])):\n",
    "        X2[i].append(f(df2['x1'][j],df2['x2'][j])[i])\n",
    "X2 = np.matrix(X2)\n",
    "\n",
    "QT = np.linalg.inv(X2.dot(X2.T))\n",
    "QT = QT.dot(X2)\n",
    "QT = QT.dot(np.matrix(df2.y[33:66]).T)\n",
    "\n",
    "RSS2=(np.array(df2.y[33:66])-X2.T.dot(QT).T)\n",
    "RSS2=float(RSS2.dot(RSS2.T))\n",
    "print(RSS2)\n",
    "\n"
   ]
  },
  {
   "cell_type": "code",
   "execution_count": 298,
   "metadata": {},
   "outputs": [
    {
     "data": {
      "text/plain": [
       "8.23361361212156"
      ]
     },
     "execution_count": 298,
     "metadata": {},
     "output_type": "execute_result"
    }
   ],
   "source": [
    "RSS2/RSS1"
   ]
  },
  {
   "cell_type": "code",
   "execution_count": 299,
   "metadata": {},
   "outputs": [],
   "source": [
    "#F(0.05,(100-33-2*5)/2,(100-33-2*5)/2) = 1.9 (вроде бы) => RSS2/RSS1 > F => гипотеза о гомоскедастичности отвергается"
   ]
  },
  {
   "cell_type": "markdown",
   "metadata": {},
   "source": [
    "#### Провести оценивание параметров регрессионной модели по доступному обобщенному МНК и по обыкновенному МНК"
   ]
  },
  {
   "cell_type": "code",
   "execution_count": 300,
   "metadata": {},
   "outputs": [
    {
     "name": "stdout",
     "output_type": "stream",
     "text": [
      "1.0390001351127587\n"
     ]
    }
   ],
   "source": [
    "QT, s, F, X = l2(f,Q,u,0.1)"
   ]
  },
  {
   "cell_type": "code",
   "execution_count": 301,
   "metadata": {},
   "outputs": [
    {
     "data": {
      "text/plain": [
       "array([ 1.  ,  1.  ,  0.01, 10.  ,  0.01])"
      ]
     },
     "execution_count": 301,
     "metadata": {},
     "output_type": "execute_result"
    }
   ],
   "source": [
    "Q"
   ]
  },
  {
   "cell_type": "code",
   "execution_count": 302,
   "metadata": {},
   "outputs": [
    {
     "data": {
      "text/plain": [
       "matrix([[9.65501075e-01],\n",
       "        [1.08242778e+00],\n",
       "        [3.71319167e-02],\n",
       "        [9.90716021e+00],\n",
       "        [2.85447524e-03]])"
      ]
     },
     "execution_count": 302,
     "metadata": {},
     "output_type": "execute_result"
    }
   ],
   "source": [
    "QT"
   ]
  },
  {
   "cell_type": "code",
   "execution_count": 303,
   "metadata": {},
   "outputs": [],
   "source": [
    "#ОМНК"
   ]
  },
  {
   "cell_type": "code",
   "execution_count": 304,
   "metadata": {},
   "outputs": [],
   "source": [
    "vv = []\n",
    "for i in range(len(df.x1)):\n",
    "    vv.append(sig2(df.x1[i],df.x2[i])**-1)\n",
    "V=np.matrix(np.diag(vv))"
   ]
  },
  {
   "cell_type": "code",
   "execution_count": 305,
   "metadata": {},
   "outputs": [],
   "source": [
    "Q2 = X.dot(np.linalg.inv(V))\n",
    "Q2 = np.linalg.inv(Q2.dot(X.T))\n",
    "Q2 = Q2.dot(X.dot( np.linalg.inv(V)))\n",
    "Q2 = Q2.dot(np.matrix(df.y).T)\n"
   ]
  },
  {
   "cell_type": "code",
   "execution_count": 306,
   "metadata": {},
   "outputs": [
    {
     "name": "stdout",
     "output_type": "stream",
     "text": [
      "[[ 0.61229801]\n",
      " [ 1.01066667]\n",
      " [ 0.46855619]\n",
      " [10.25518046]\n",
      " [ 0.0972597 ]]\n"
     ]
    }
   ],
   "source": [
    "print(Q2)"
   ]
  },
  {
   "cell_type": "markdown",
   "metadata": {},
   "source": [
    "#### Сравнить эффективность оценок в этих двух случаях по квадрату их расстояния до известных истинных значений параметров"
   ]
  },
  {
   "cell_type": "code",
   "execution_count": 307,
   "metadata": {},
   "outputs": [
    {
     "data": {
      "text/plain": [
       "matrix([[0.01739094]])"
      ]
     },
     "execution_count": 307,
     "metadata": {},
     "output_type": "execute_result"
    }
   ],
   "source": [
    "(np.matrix(Q).T-QT).T.dot(np.matrix(Q).T-QT)"
   ]
  },
  {
   "cell_type": "code",
   "execution_count": 308,
   "metadata": {},
   "outputs": [
    {
     "data": {
      "text/plain": [
       "matrix([[0.43343171]])"
      ]
     },
     "execution_count": 308,
     "metadata": {},
     "output_type": "execute_result"
    }
   ],
   "source": [
    "(np.matrix(Q).T-Q2).T.dot(np.matrix(Q).T-Q2)"
   ]
  },
  {
   "cell_type": "code",
   "execution_count": null,
   "metadata": {},
   "outputs": [],
   "source": []
  },
  {
   "cell_type": "code",
   "execution_count": null,
   "metadata": {},
   "outputs": [],
   "source": []
  },
  {
   "cell_type": "code",
   "execution_count": null,
   "metadata": {},
   "outputs": [],
   "source": []
  },
  {
   "cell_type": "code",
   "execution_count": null,
   "metadata": {},
   "outputs": [],
   "source": []
  },
  {
   "cell_type": "code",
   "execution_count": null,
   "metadata": {},
   "outputs": [],
   "source": []
  },
  {
   "cell_type": "code",
   "execution_count": null,
   "metadata": {},
   "outputs": [],
   "source": []
  },
  {
   "cell_type": "code",
   "execution_count": null,
   "metadata": {},
   "outputs": [],
   "source": []
  },
  {
   "cell_type": "code",
   "execution_count": null,
   "metadata": {},
   "outputs": [],
   "source": []
  },
  {
   "cell_type": "code",
   "execution_count": null,
   "metadata": {},
   "outputs": [],
   "source": []
  },
  {
   "cell_type": "code",
   "execution_count": null,
   "metadata": {},
   "outputs": [],
   "source": []
  },
  {
   "cell_type": "code",
   "execution_count": null,
   "metadata": {},
   "outputs": [],
   "source": []
  },
  {
   "cell_type": "code",
   "execution_count": null,
   "metadata": {},
   "outputs": [],
   "source": []
  },
  {
   "cell_type": "code",
   "execution_count": null,
   "metadata": {},
   "outputs": [],
   "source": []
  },
  {
   "cell_type": "code",
   "execution_count": null,
   "metadata": {},
   "outputs": [],
   "source": []
  },
  {
   "cell_type": "code",
   "execution_count": null,
   "metadata": {},
   "outputs": [],
   "source": []
  },
  {
   "cell_type": "code",
   "execution_count": null,
   "metadata": {},
   "outputs": [],
   "source": []
  },
  {
   "cell_type": "code",
   "execution_count": null,
   "metadata": {},
   "outputs": [],
   "source": []
  },
  {
   "cell_type": "code",
   "execution_count": null,
   "metadata": {},
   "outputs": [],
   "source": []
  },
  {
   "cell_type": "code",
   "execution_count": null,
   "metadata": {},
   "outputs": [],
   "source": []
  },
  {
   "cell_type": "code",
   "execution_count": null,
   "metadata": {},
   "outputs": [],
   "source": []
  },
  {
   "cell_type": "code",
   "execution_count": null,
   "metadata": {},
   "outputs": [],
   "source": []
  },
  {
   "cell_type": "code",
   "execution_count": null,
   "metadata": {},
   "outputs": [],
   "source": []
  },
  {
   "cell_type": "code",
   "execution_count": null,
   "metadata": {},
   "outputs": [],
   "source": []
  },
  {
   "cell_type": "code",
   "execution_count": null,
   "metadata": {},
   "outputs": [],
   "source": []
  },
  {
   "cell_type": "code",
   "execution_count": null,
   "metadata": {},
   "outputs": [],
   "source": []
  },
  {
   "cell_type": "code",
   "execution_count": null,
   "metadata": {},
   "outputs": [],
   "source": []
  },
  {
   "cell_type": "code",
   "execution_count": null,
   "metadata": {},
   "outputs": [],
   "source": []
  }
 ],
 "metadata": {
  "kernelspec": {
   "display_name": "Python 3",
   "language": "python",
   "name": "python3"
  },
  "language_info": {
   "codemirror_mode": {
    "name": "ipython",
    "version": 3
   },
   "file_extension": ".py",
   "mimetype": "text/x-python",
   "name": "python",
   "nbconvert_exporter": "python",
   "pygments_lexer": "ipython3",
   "version": "3.7.4"
  }
 },
 "nbformat": 4,
 "nbformat_minor": 2
}
